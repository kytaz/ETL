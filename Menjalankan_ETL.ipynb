{
  "nbformat": 4,
  "nbformat_minor": 0,
  "metadata": {
    "colab": {
      "provenance": []
    },
    "kernelspec": {
      "name": "python3",
      "display_name": "Python 3"
    },
    "language_info": {
      "name": "python"
    }
  },
  "cells": [
    {
      "cell_type": "code",
      "source": [
        "# Pindah ke direktori /content\n",
        "%cd /content"
      ],
      "metadata": {
        "colab": {
          "base_uri": "https://localhost:8080/"
        },
        "id": "4U26zOTrll9R",
        "outputId": "2b61b797-cdf2-4c71-f1f6-46366ba513da"
      },
      "execution_count": 1,
      "outputs": [
        {
          "output_type": "stream",
          "name": "stdout",
          "text": [
            "/content\n"
          ]
        }
      ]
    },
    {
      "cell_type": "code",
      "source": [
        "# Hapus folder ETL jika sudah ada\n",
        "%rm -rf ETL"
      ],
      "metadata": {
        "id": "05iivhU5luAn"
      },
      "execution_count": 2,
      "outputs": []
    },
    {
      "cell_type": "code",
      "source": [
        "# Kloning repositori GitHub\n",
        "!git clone https://github.com/kytaz/ETL.git"
      ],
      "metadata": {
        "colab": {
          "base_uri": "https://localhost:8080/"
        },
        "id": "Pf1vYApTlxdd",
        "outputId": "7e57c9c4-c2e1-40b1-ec47-ab8d7353479a"
      },
      "execution_count": 3,
      "outputs": [
        {
          "output_type": "stream",
          "name": "stdout",
          "text": [
            "Cloning into 'ETL'...\n",
            "remote: Enumerating objects: 256, done.\u001b[K\n",
            "remote: Counting objects: 100% (77/77), done.\u001b[K\n",
            "remote: Compressing objects: 100% (77/77), done.\u001b[K\n",
            "Receiving objects: 100% (256/256), 100.97 KiB | 344.00 KiB/s, done.\n",
            "remote: Total 256 (delta 32), reused 0 (delta 0), pack-reused 179 (from 1)\u001b[K\n",
            "Resolving deltas: 100% (128/128), done.\n"
          ]
        }
      ]
    },
    {
      "cell_type": "code",
      "source": [
        "# Verifikasi bahwa folder ETL sudah terkloning\n",
        "%ls ETL"
      ],
      "metadata": {
        "colab": {
          "base_uri": "https://localhost:8080/"
        },
        "id": "UpKW_GOGlzy_",
        "outputId": "037a1390-2821-47cc-e764-599e005d06d7"
      },
      "execution_count": 4,
      "outputs": [
        {
          "output_type": "stream",
          "name": "stdout",
          "text": [
            " main.py                                README.md         \u001b[0m\u001b[01;34mutils\u001b[0m/\n",
            "'products fashion.csv'                  requirement.txt\n",
            " project-etl-460308-38b5ce35d357.json   \u001b[01;34mtest\u001b[0m/\n"
          ]
        }
      ]
    },
    {
      "cell_type": "code",
      "source": [
        "# Masuk ke direktori ETL\n",
        "%cd ETL"
      ],
      "metadata": {
        "colab": {
          "base_uri": "https://localhost:8080/"
        },
        "id": "C5JG7bDlmcow",
        "outputId": "4588b059-1887-47a1-d62e-7ced0aeca08e"
      },
      "execution_count": 5,
      "outputs": [
        {
          "output_type": "stream",
          "name": "stdout",
          "text": [
            "/content/ETL\n"
          ]
        }
      ]
    },
    {
      "cell_type": "code",
      "source": [
        "!pip install -r requirement.txt"
      ],
      "metadata": {
        "colab": {
          "base_uri": "https://localhost:8080/"
        },
        "id": "Ma0j5X75mF99",
        "outputId": "b8709e87-69a1-45ac-d977-b52bac5c7a6e"
      },
      "execution_count": 6,
      "outputs": [
        {
          "output_type": "stream",
          "name": "stdout",
          "text": [
            "Requirement already satisfied: requests~=2.31 in /usr/local/lib/python3.11/dist-packages (from -r requirement.txt (line 1)) (2.32.3)\n",
            "Requirement already satisfied: beautifulsoup4~=4.12 in /usr/local/lib/python3.11/dist-packages (from -r requirement.txt (line 2)) (4.13.4)\n",
            "Requirement already satisfied: pandas~=2.2 in /usr/local/lib/python3.11/dist-packages (from -r requirement.txt (line 3)) (2.2.2)\n",
            "Collecting gspread~=5.12 (from -r requirement.txt (line 4))\n",
            "  Downloading gspread-5.12.4-py3-none-any.whl.metadata (8.8 kB)\n",
            "Collecting gspread_dataframe==3.3.1 (from -r requirement.txt (line 5))\n",
            "  Downloading gspread_dataframe-3.3.1-py2.py3-none-any.whl.metadata (4.1 kB)\n",
            "Collecting pytest~=7.0 (from -r requirement.txt (line 6))\n",
            "  Downloading pytest-7.4.4-py3-none-any.whl.metadata (7.9 kB)\n",
            "Collecting pytest-cov~=6.0 (from -r requirement.txt (line 7))\n",
            "  Downloading pytest_cov-6.1.1-py3-none-any.whl.metadata (28 kB)\n",
            "Requirement already satisfied: six>=1.12.0 in /usr/local/lib/python3.11/dist-packages (from gspread_dataframe==3.3.1->-r requirement.txt (line 5)) (1.17.0)\n",
            "Requirement already satisfied: charset-normalizer<4,>=2 in /usr/local/lib/python3.11/dist-packages (from requests~=2.31->-r requirement.txt (line 1)) (3.4.2)\n",
            "Requirement already satisfied: idna<4,>=2.5 in /usr/local/lib/python3.11/dist-packages (from requests~=2.31->-r requirement.txt (line 1)) (3.10)\n",
            "Requirement already satisfied: urllib3<3,>=1.21.1 in /usr/local/lib/python3.11/dist-packages (from requests~=2.31->-r requirement.txt (line 1)) (2.4.0)\n",
            "Requirement already satisfied: certifi>=2017.4.17 in /usr/local/lib/python3.11/dist-packages (from requests~=2.31->-r requirement.txt (line 1)) (2025.4.26)\n",
            "Requirement already satisfied: soupsieve>1.2 in /usr/local/lib/python3.11/dist-packages (from beautifulsoup4~=4.12->-r requirement.txt (line 2)) (2.7)\n",
            "Requirement already satisfied: typing-extensions>=4.0.0 in /usr/local/lib/python3.11/dist-packages (from beautifulsoup4~=4.12->-r requirement.txt (line 2)) (4.13.2)\n",
            "Requirement already satisfied: numpy>=1.23.2 in /usr/local/lib/python3.11/dist-packages (from pandas~=2.2->-r requirement.txt (line 3)) (2.0.2)\n",
            "Requirement already satisfied: python-dateutil>=2.8.2 in /usr/local/lib/python3.11/dist-packages (from pandas~=2.2->-r requirement.txt (line 3)) (2.9.0.post0)\n",
            "Requirement already satisfied: pytz>=2020.1 in /usr/local/lib/python3.11/dist-packages (from pandas~=2.2->-r requirement.txt (line 3)) (2025.2)\n",
            "Requirement already satisfied: tzdata>=2022.7 in /usr/local/lib/python3.11/dist-packages (from pandas~=2.2->-r requirement.txt (line 3)) (2025.2)\n",
            "Requirement already satisfied: google-auth>=1.12.0 in /usr/local/lib/python3.11/dist-packages (from gspread~=5.12->-r requirement.txt (line 4)) (2.38.0)\n",
            "Requirement already satisfied: google-auth-oauthlib>=0.4.1 in /usr/local/lib/python3.11/dist-packages (from gspread~=5.12->-r requirement.txt (line 4)) (1.2.2)\n",
            "Requirement already satisfied: iniconfig in /usr/local/lib/python3.11/dist-packages (from pytest~=7.0->-r requirement.txt (line 6)) (2.1.0)\n",
            "Requirement already satisfied: packaging in /usr/local/lib/python3.11/dist-packages (from pytest~=7.0->-r requirement.txt (line 6)) (24.2)\n",
            "Requirement already satisfied: pluggy<2.0,>=0.12 in /usr/local/lib/python3.11/dist-packages (from pytest~=7.0->-r requirement.txt (line 6)) (1.5.0)\n",
            "Collecting coverage>=7.5 (from coverage[toml]>=7.5->pytest-cov~=6.0->-r requirement.txt (line 7))\n",
            "  Downloading coverage-7.8.0-cp311-cp311-manylinux_2_5_x86_64.manylinux1_x86_64.manylinux_2_17_x86_64.manylinux2014_x86_64.whl.metadata (8.5 kB)\n",
            "Requirement already satisfied: cachetools<6.0,>=2.0.0 in /usr/local/lib/python3.11/dist-packages (from google-auth>=1.12.0->gspread~=5.12->-r requirement.txt (line 4)) (5.5.2)\n",
            "Requirement already satisfied: pyasn1-modules>=0.2.1 in /usr/local/lib/python3.11/dist-packages (from google-auth>=1.12.0->gspread~=5.12->-r requirement.txt (line 4)) (0.4.2)\n",
            "Requirement already satisfied: rsa<5,>=3.1.4 in /usr/local/lib/python3.11/dist-packages (from google-auth>=1.12.0->gspread~=5.12->-r requirement.txt (line 4)) (4.9.1)\n",
            "Requirement already satisfied: requests-oauthlib>=0.7.0 in /usr/local/lib/python3.11/dist-packages (from google-auth-oauthlib>=0.4.1->gspread~=5.12->-r requirement.txt (line 4)) (2.0.0)\n",
            "Requirement already satisfied: pyasn1<0.7.0,>=0.6.1 in /usr/local/lib/python3.11/dist-packages (from pyasn1-modules>=0.2.1->google-auth>=1.12.0->gspread~=5.12->-r requirement.txt (line 4)) (0.6.1)\n",
            "Requirement already satisfied: oauthlib>=3.0.0 in /usr/local/lib/python3.11/dist-packages (from requests-oauthlib>=0.7.0->google-auth-oauthlib>=0.4.1->gspread~=5.12->-r requirement.txt (line 4)) (3.2.2)\n",
            "Downloading gspread_dataframe-3.3.1-py2.py3-none-any.whl (8.0 kB)\n",
            "Downloading gspread-5.12.4-py3-none-any.whl (49 kB)\n",
            "\u001b[2K   \u001b[90m━━━━━━━━━━━━━━━━━━━━━━━━━━━━━━━━━━━━━━━━\u001b[0m \u001b[32m49.5/49.5 kB\u001b[0m \u001b[31m3.0 MB/s\u001b[0m eta \u001b[36m0:00:00\u001b[0m\n",
            "\u001b[?25hDownloading pytest-7.4.4-py3-none-any.whl (325 kB)\n",
            "\u001b[2K   \u001b[90m━━━━━━━━━━━━━━━━━━━━━━━━━━━━━━━━━━━━━━━━\u001b[0m \u001b[32m325.3/325.3 kB\u001b[0m \u001b[31m9.9 MB/s\u001b[0m eta \u001b[36m0:00:00\u001b[0m\n",
            "\u001b[?25hDownloading pytest_cov-6.1.1-py3-none-any.whl (23 kB)\n",
            "Downloading coverage-7.8.0-cp311-cp311-manylinux_2_5_x86_64.manylinux1_x86_64.manylinux_2_17_x86_64.manylinux2014_x86_64.whl (244 kB)\n",
            "\u001b[2K   \u001b[90m━━━━━━━━━━━━━━━━━━━━━━━━━━━━━━━━━━━━━━━━\u001b[0m \u001b[32m244.0/244.0 kB\u001b[0m \u001b[31m17.6 MB/s\u001b[0m eta \u001b[36m0:00:00\u001b[0m\n",
            "\u001b[?25hInstalling collected packages: pytest, coverage, pytest-cov, gspread, gspread_dataframe\n",
            "  Attempting uninstall: pytest\n",
            "    Found existing installation: pytest 8.3.5\n",
            "    Uninstalling pytest-8.3.5:\n",
            "      Successfully uninstalled pytest-8.3.5\n",
            "  Attempting uninstall: gspread\n",
            "    Found existing installation: gspread 6.2.0\n",
            "    Uninstalling gspread-6.2.0:\n",
            "      Successfully uninstalled gspread-6.2.0\n",
            "  Attempting uninstall: gspread_dataframe\n",
            "    Found existing installation: gspread-dataframe 4.0.0\n",
            "    Uninstalling gspread-dataframe-4.0.0:\n",
            "      Successfully uninstalled gspread-dataframe-4.0.0\n",
            "Successfully installed coverage-7.8.0 gspread-5.12.4 gspread_dataframe-3.3.1 pytest-7.4.4 pytest-cov-6.1.1\n"
          ]
        }
      ]
    },
    {
      "cell_type": "code",
      "source": [
        "!python main.py"
      ],
      "metadata": {
        "colab": {
          "base_uri": "https://localhost:8080/"
        },
        "id": "FIXiNRN5mfnv",
        "outputId": "7271d776-8d2b-4467-f163-f5b96e8989bf"
      },
      "execution_count": 7,
      "outputs": [
        {
          "output_type": "stream",
          "name": "stdout",
          "text": [
            "✅ Data berhasil ditransformasi. Kolom: ['title', 'price', 'rating', 'colors', 'size', 'gender', 'timestamp']\n",
            "🧾 Contoh data:\n",
            "          title      price  rating  ...  size  gender                   timestamp\n",
            "1    T-shirt 2  1634400.0     3.9  ...     M   Women  2025-05-20T14:45:59.701134\n",
            "2     Hoodie 3  7950080.0     4.8  ...     L  Unisex  2025-05-20T14:45:59.702554\n",
            "3      Pants 4  7476960.0     3.3  ...    XL     Men  2025-05-20T14:45:59.703638\n",
            "4  Outerwear 5  5145440.0     3.5  ...   XXL   Women  2025-05-20T14:45:59.704457\n",
            "5     Jacket 6  2453920.0     3.3  ...     S  Unisex  2025-05-20T14:45:59.705344\n",
            "\n",
            "[5 rows x 7 columns]\n"
          ]
        }
      ]
    },
    {
      "cell_type": "code",
      "source": [
        "!coverage run -m pytest test\n",
        "!coverage report"
      ],
      "metadata": {
        "colab": {
          "base_uri": "https://localhost:8080/"
        },
        "id": "oPCn7cbVLTho",
        "outputId": "964d0d36-717a-4fbf-a059-64cd36e4e791"
      },
      "execution_count": 11,
      "outputs": [
        {
          "output_type": "stream",
          "name": "stdout",
          "text": [
            "\u001b[1m============================= test session starts ==============================\u001b[0m\n",
            "platform linux -- Python 3.11.12, pytest-7.4.4, pluggy-1.5.0\n",
            "rootdir: /content/ETL\n",
            "plugins: cov-6.1.1, langsmith-0.3.42, anyio-4.9.0, typeguard-4.4.2\n",
            "collected 6 items                                                              \u001b[0m\n",
            "\n",
            "test/test_extract.py \u001b[32m.\u001b[0m\u001b[32m.\u001b[0m\u001b[32m                                                  [ 33%]\u001b[0m\n",
            "test/test_load.py \u001b[32m.\u001b[0m\u001b[32m.\u001b[0m\u001b[32m                                                     [ 66%]\u001b[0m\n",
            "test/test_transform.py \u001b[32m.\u001b[0m\u001b[32m.\u001b[0m\u001b[32m                                                [100%]\u001b[0m\n",
            "\n",
            "\u001b[32m============================== \u001b[32m\u001b[1m6 passed\u001b[0m\u001b[32m in 1.42s\u001b[0m\u001b[32m ===============================\u001b[0m\n",
            "Name                     Stmts   Miss  Cover\n",
            "--------------------------------------------\n",
            "test/test_extract.py        30      1    97%\n",
            "test/test_load.py           23      0   100%\n",
            "test/test_transform.py      18      0   100%\n",
            "utils/extract.py            29      6    79%\n",
            "utils/load.py               17      2    88%\n",
            "utils/transform.py          30      6    80%\n",
            "--------------------------------------------\n",
            "TOTAL                      147     15    90%\n"
          ]
        }
      ]
    },
    {
      "cell_type": "code",
      "source": [
        "!python3 -m pytest test"
      ],
      "metadata": {
        "colab": {
          "base_uri": "https://localhost:8080/"
        },
        "id": "RBGkuM99MN_i",
        "outputId": "73730b27-ed38-46fa-dcc9-790bf035f374"
      },
      "execution_count": 15,
      "outputs": [
        {
          "output_type": "stream",
          "name": "stdout",
          "text": [
            "\u001b[1m============================= test session starts ==============================\u001b[0m\n",
            "platform linux -- Python 3.11.12, pytest-7.4.4, pluggy-1.5.0\n",
            "rootdir: /content/ETL\n",
            "plugins: cov-6.1.1, langsmith-0.3.42, anyio-4.9.0, typeguard-4.4.2\n",
            "collected 6 items                                                              \u001b[0m\n",
            "\n",
            "test/test_extract.py \u001b[32m.\u001b[0m\u001b[32m.\u001b[0m\u001b[32m                                                  [ 33%]\u001b[0m\n",
            "test/test_load.py \u001b[32m.\u001b[0m\u001b[32m.\u001b[0m\u001b[32m                                                     [ 66%]\u001b[0m\n",
            "test/test_transform.py \u001b[32m.\u001b[0m\u001b[32m.\u001b[0m\u001b[32m                                                [100%]\u001b[0m\n",
            "\n",
            "\u001b[32m============================== \u001b[32m\u001b[1m6 passed\u001b[0m\u001b[32m in 0.85s\u001b[0m\u001b[32m ===============================\u001b[0m\n"
          ]
        }
      ]
    }
  ]
}